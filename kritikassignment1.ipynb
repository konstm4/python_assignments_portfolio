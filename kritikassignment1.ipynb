{
 "cells": [
  {
   "cell_type": "code",
   "id": "initial_id",
   "metadata": {
    "collapsed": true,
    "ExecuteTime": {
     "end_time": "2024-09-30T01:38:30.742237Z",
     "start_time": "2024-09-30T01:38:24.574952Z"
    }
   },
   "source": [
    "x = float(input(\"Input: \"))\n",
    "if input != x>=0 and x<=1:\n",
    "    def err(a,b):\n",
    "        y= (a**((2*b)+1))/((2*b)+1)\n",
    "        return y\n",
    "    n=0\n",
    "    while err(x,n)>=0.0001:\n",
    "        n+=1\n",
    "    i=0\n",
    "    f=0\n",
    "    c=0\n",
    "    while i <=(n-1):\n",
    "        c=(((-1) ** i) *(x ** ((2*i)+1)))/((2 * i)+1)\n",
    "        f=f+c\n",
    "        i+=1\n",
    "\n",
    "    therefore_statement= (f,n,err(x,n))\n",
    "    print(therefore_statement)\n",
    "else:\n",
    "    print('Error!')\n",
    "    \n",
    "    "
   ],
   "outputs": [
    {
     "name": "stdout",
     "output_type": "stream",
     "text": [
      "(0.46368427579365074, 5, 4.438920454545455e-05)\n"
     ]
    }
   ],
   "execution_count": 1
  }
 ],
 "metadata": {
  "kernelspec": {
   "display_name": "Python 3",
   "language": "python",
   "name": "python3"
  },
  "language_info": {
   "codemirror_mode": {
    "name": "ipython",
    "version": 2
   },
   "file_extension": ".py",
   "mimetype": "text/x-python",
   "name": "python",
   "nbconvert_exporter": "python",
   "pygments_lexer": "ipython2",
   "version": "2.7.6"
  }
 },
 "nbformat": 4,
 "nbformat_minor": 5
}
