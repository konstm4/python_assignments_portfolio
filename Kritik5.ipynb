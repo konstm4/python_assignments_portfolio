{
 "cells": [
  {
   "cell_type": "code",
   "execution_count": null,
   "id": "50fc7338-df7c-4f77-96ee-f00168a3e423",
   "metadata": {},
   "outputs": [],
   "source": [
    "import matplotlib.pyplot as plt\n",
    "import random\n",
    "\n",
    "# Vertices of an equilateral triangle\n",
    "vertices = [(0, 0), (1, 0), (0.5, 0.866)]\n",
    "# A function to calculate the area of a triangle\n",
    "def area(x1, y1, x2, y2, x3, y3):\n",
    "    return abs((x1 * (y2 - y3) + x2 * (y3 - y1) + x3 * (y1 - y2)) / 2.0)\n",
    "# Function to check if a point is inside the triangle\n",
    "def isInside(x1, y1, x2, y2, x3, y3, x, y):\n",
    "    A = area(x1, y1, x2, y2, x3, y3)\n",
    "    A1 = area(x, y, x2, y2, x3, y3)\n",
    "    A2 = area(x1, y1, x, y, x3, y3)\n",
    "    A3 = area(x1, y1, x2, y2, x, y)\n",
    "    return A == A1 + A2 + A3\n",
    "# Prompting the user for a seed point\n",
    "while True:\n",
    "    try:\n",
    "        seed_x = float(input(\"Enter the x-coordinate of the seed point: \"))\n",
    "        seed_y = float(input(\"Enter the y-coordinate of the seed point: \"))\n",
    "        if isInside(0, 0, 1, 0, 0.5, 0.866, seed_x, seed_y):\n",
    "            print(\"Valid seed point entered.\")\n",
    "            break\n",
    "        else:\n",
    "            print(\"The point is not inside the triangle. Please try again.\")\n",
    "    except ValueError:\n",
    "        print(\"Invalid input. Please enter numerical values.\")\n",
    "# Initialize the seed point\n",
    "seed = (seed_x, seed_y)\n",
    "# Initialize a list to store points, starting with the seed\n",
    "points = [seed]\n",
    "# Prompting the user for the number of steps\n",
    "while True:\n",
    "    try:\n",
    "        num_steps = int(input(\"Enter the number of steps: \"))\n",
    "        if num_steps > 0:\n",
    "            print(f\"Number of steps set to {num_steps}.\")\n",
    "            break\n",
    "        else:\n",
    "            print(\"Please enter a positive integer.\")\n",
    "    except ValueError:\n",
    "        print(\"Invalid input. Please enter a positive integer.\")\n",
    "# Main part of the Chaos Game algorithm\n",
    "for i in range(num_steps):\n",
    "    # Choose a random vertex (0, 1, or 2)\n",
    "    next_vertex = random.choice(vertices)\n",
    "    # Calculate the midpoint between the last point and the chosen vertex\n",
    "    last_point = points[-1]\n",
    "    midpoint = ((last_point[0] + next_vertex[0]) / 2, (last_point[1] + next_vertex[1]) / 2)\n",
    "    # Add the midpoint to the points list\n",
    "    points.append(midpoint)\n",
    "# Function to plot the points\n",
    "def plot_solution(points):\n",
    "    plt.scatter([p[0] for p in points], [p[1] for p in points], s=0.1)\n",
    "    plt.show()\n",
    "# Plot the points to see the Sierpinski Triangle\n",
    "plot_solution(points)\n"
   ]
  },
  {
   "cell_type": "code",
   "execution_count": null,
   "id": "8f0f6765-ade7-4028-ab84-39abc6281c68",
   "metadata": {},
   "outputs": [],
   "source": []
  },
  {
   "cell_type": "code",
   "execution_count": null,
   "id": "320bb457-f344-483c-9920-e5d78d2e5912",
   "metadata": {},
   "outputs": [],
   "source": []
  },
  {
   "cell_type": "code",
   "execution_count": null,
   "id": "36ba5383-b341-4a62-8f87-37b8ac5c5f15",
   "metadata": {},
   "outputs": [],
   "source": []
  }
 ],
 "metadata": {
  "kernelspec": {
   "display_name": "Python 3 (ipykernel)",
   "language": "python",
   "name": "python3"
  },
  "language_info": {
   "codemirror_mode": {
    "name": "ipython",
    "version": 3
   },
   "file_extension": ".py",
   "mimetype": "text/x-python",
   "name": "python",
   "nbconvert_exporter": "python",
   "pygments_lexer": "ipython3",
   "version": "3.12.8"
  }
 },
 "nbformat": 4,
 "nbformat_minor": 5
}
