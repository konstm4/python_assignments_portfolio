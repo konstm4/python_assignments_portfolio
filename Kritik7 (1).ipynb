{
 "cells": [
  {
   "cell_type": "code",
   "execution_count": 1,
   "id": "11a2c54e-7517-4340-9967-789e3d4c42ab",
   "metadata": {},
   "outputs": [
    {
     "name": "stdout",
     "output_type": "stream",
     "text": [
      "t0: 2.290087686017293\n",
      "t*: 2.2522252225222523\n",
      "Reject H0: False\n"
     ]
    }
   ],
   "source": [
    "import numpy as np\n",
    "from scipy.special import gamma\n",
    "\n",
    "def compute_mean(data):\n",
    "    \"\"\"Compute the mean of a list of numbers.\"\"\"\n",
    "    return sum(data) / len(data)\n",
    "\n",
    "def compute_std(data):\n",
    "    \"\"\"Compute the standard deviation of a list of numbers.\"\"\"\n",
    "    mean = compute_mean(data)\n",
    "    variance = sum((x - mean) ** 2 for x in data) / (len(data) - 1)\n",
    "    return variance ** 0.5\n",
    "\n",
    "def compute_t0(data, mu0):\n",
    "    \"\"\"Compute the t0 statistic.\"\"\"\n",
    "    mean = compute_mean(data)\n",
    "    std = compute_std(data)\n",
    "    n = len(data)\n",
    "    return (mean - mu0) / (std / (n ** 0.5))\n",
    "\n",
    "def t_distribution_pdf(x, nu):\n",
    "    \"\"\"Compute the probability density of the t-distribution at x.\"\"\"\n",
    "    coeff = gamma((nu + 1) / 2) / (np.sqrt(nu * np.pi) * gamma(nu / 2))\n",
    "    density = coeff * (1 + x**2 / nu) ** (-0.5 * (nu + 1))\n",
    "    return density\n",
    "\n",
    "def find_t_star(prob, nu, x_start=0, x_end=20, num_points=10000):\n",
    "    \"\"\"Find the t* value for a given probability and degrees of freedom.\"\"\"\n",
    "    x = np.linspace(x_start, x_end, num_points)\n",
    "    y = t_distribution_pdf(x, nu)\n",
    "    cdf = np.cumsum(y) * (x[1] - x[0])\n",
    "    target_half_prob = prob / 2\n",
    "    index = np.where(cdf >= target_half_prob)[0][0]\n",
    "    return x[index]\n",
    "\n",
    "def t_test(data, mu0, confidence=0.95):\n",
    "    \"\"\"Perform a t-test and return whether to accept or reject H0.\"\"\"\n",
    "    n = len(data)\n",
    "    nu = n - 1\n",
    "    t0 = compute_t0(data, mu0)\n",
    "    t_star = find_t_star(confidence, nu)\n",
    "    return abs(t0) <= t_star, t0, t_star\n",
    "\n",
    "# Given data\n",
    "data = [92.64, 79.00, 84.79, 97.41, 93.68, 65.23, 84.50, 73.49, 73.97, 79.11]\n",
    "mu0 = 75\n",
    "\n",
    "# Perform t-test\n",
    "result, t0, t_star = t_test(data, mu0)\n",
    "\n",
    "# Print results\n",
    "print(f\"t0: {t0}\")\n",
    "print(f\"t*: {t_star}\")\n",
    "print(\"Accept H0:\" if result else \"Reject H0:\", result)\n"
   ]
  },
  {
   "cell_type": "code",
   "execution_count": null,
   "id": "71c9e6d8-2909-4ae4-a9da-975effd2a14b",
   "metadata": {},
   "outputs": [],
   "source": []
  }
 ],
 "metadata": {
  "kernelspec": {
   "display_name": "Python 3 (ipykernel)",
   "language": "python",
   "name": "python3"
  },
  "language_info": {
   "codemirror_mode": {
    "name": "ipython",
    "version": 3
   },
   "file_extension": ".py",
   "mimetype": "text/x-python",
   "name": "python",
   "nbconvert_exporter": "python",
   "pygments_lexer": "ipython3",
   "version": "3.12.8"
  }
 },
 "nbformat": 4,
 "nbformat_minor": 5
}
