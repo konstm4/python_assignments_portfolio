{
 "cells": [
  {
   "cell_type": "code",
   "execution_count": 26,
   "id": "e09b6392-a35c-4622-a3ee-8c5042411772",
   "metadata": {},
   "outputs": [],
   "source": [
    "import matplotlib.pyplot as plt #this was for question 3 code simply to visualize!!\n",
    "import numpy as np\n",
    "import pandas as pd\n",
    "def funny(x):\n",
    "    if x<=-1:\n",
    "        return 0\n",
    "    elif x>=1:\n",
    "        return 0\n",
    "    else:\n",
    "        return np.exp(1-(1/(1-x**(10**250))))\n"
   ]
  },
  {
   "cell_type": "code",
   "execution_count": 25,
   "id": "b48ee86d-141b-4153-be5c-efa1cf780664",
   "metadata": {},
   "outputs": [
    {
     "name": "stdout",
     "output_type": "stream",
     "text": [
      "Answer of f1 on [0.1, 1]: 0.2698741375294049\n",
      "Answer of f2 on [0, 2]: 0\n",
      "Answer of f3 on [3, 4]: 3.141592653642874\n",
      "Answer of f4 on [5, 7]: no root\n"
     ]
    }
   ],
   "source": [
    "import numpy as np\n",
    "\n",
    "def roots(f, a, b, tol=1e-10, max_iter=1000):\n",
    "    if f(a) == 0: \n",
    "        return a\n",
    "    if f(b)== 0:\n",
    "        return b\n",
    "    if f(a)*f(b)>=0: \n",
    "        return (\"no root\")\n",
    "    \n",
    "    mathy = 0\n",
    "    while (b-a) / 2> tol and mathy < max_iter:\n",
    "        c = (a +b) / 2\n",
    "        if f(c) == 0 or (b - a) / 2 < tol:\n",
    "            return c\n",
    "        mathy += 1\n",
    "        if f(a) * f(c) < 0:\n",
    "            b = c\n",
    "        else:\n",
    "            a = c\n",
    "            \n",
    "    return (a + b) / 2\n",
    "\n",
    "def f1(x):\n",
    "    return np.exp(x) + np.log(x)\n",
    "\n",
    "def f2(x):\n",
    "    return np.arctan(x) - x**2\n",
    "\n",
    "def f3(x):\n",
    "    return np.sin(x) / np.log(x)\n",
    "\n",
    "def f4(x):\n",
    "    return np.log(np.cos(x))\n",
    "\n",
    "root1 = roots(f1, 0.1, 1)\n",
    "root2 = roots(f2, 0, 2)\n",
    "root3 = roots(f3, 3, 4)\n",
    "root4 = roots(f4, 5, 7)\n",
    "\n",
    "print(\"Answer of f1 on [0.1, 1]:\", root1)\n",
    "print(\"Answer of f2 on [0, 2]:\", root2)\n",
    "print(\"Answer of f3 on [3, 4]:\", root3)\n",
    "print(\"Answer of f4 on [5, 7]:\", root4)"
   ]
  },
  {
   "cell_type": "code",
   "execution_count": null,
   "id": "073ce5fb-9d3a-492f-acce-98a33afc92c1",
   "metadata": {},
   "outputs": [],
   "source": []
  }
 ],
 "metadata": {
  "kernelspec": {
   "display_name": "Python 3 (ipykernel)",
   "language": "python",
   "name": "python3"
  },
  "language_info": {
   "codemirror_mode": {
    "name": "ipython",
    "version": 3
   },
   "file_extension": ".py",
   "mimetype": "text/x-python",
   "name": "python",
   "nbconvert_exporter": "python",
   "pygments_lexer": "ipython3",
   "version": "3.11.9"
  }
 },
 "nbformat": 4,
 "nbformat_minor": 5
}
