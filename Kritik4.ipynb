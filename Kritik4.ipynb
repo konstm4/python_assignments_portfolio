{
 "cells": [
  {
   "cell_type": "code",
   "id": "11de351a-cfa6-4f50-b837-4ad6c50c6b91",
   "metadata": {
    "jupyter": {
     "is_executing": true
    }
   },
   "source": [
    "import matplotlib.pyplot as plt\n",
    "import numpy as np\n",
    "\n",
    "def grad_descent(f, learning_rate, initial_pt):\n",
    "    def derivative(f, base_pt): #estimate the derivative at base_pt by using symmetric approximation\n",
    "        return (f(base_pt + 10**-10) - f(base_pt - 10**-10)) / (2*10**-10)\n",
    "\n",
    "    x_coords = [initial_pt] #store x_n values\n",
    "    y_coords = [f(initial_pt)] #store y_n valyes\n",
    "\n",
    "    i = 0\n",
    "    while np.abs(derivative(f,x_coords[i])) > 1e-10: #convergence condition\n",
    "        xi = x_coords[i] - learning_rate * derivative(f, x_coords[i]) #gradient descent step\n",
    "        x_coords.append(xi)\n",
    "        y_coords.append(f(xi))\n",
    "        i+=1\n",
    "\n",
    "#plot the graph\n",
    "plot = np.linspace(\n",
    "    min(x_coords)-0.5, #adjust range\n",
    "    max(x_coords)+0.5,\n",
    "    10000\n",
    ")\n",
    "function_range = [f(i) for i in plot_range]\n",
    "plt.plot(plot_range, function_range, label=\"f(x)\") #plot f(x)\n",
    "plt.plot(x_coords, y_coords, marker=\"o\", label=\"GD Path\") #plot GD points\n",
    "plt.legend()\n",
    "plt.title(\"Gradient Descent\")\n",
    "plt.xlabel(\"x\")\n",
    "plt.ylabel(\"f(x)\")\n",
    "plt.grid()\n",
    "plt.show()"
   ],
   "outputs": [],
   "execution_count": null
  },
  {
   "cell_type": "code",
   "execution_count": null,
   "id": "1d9cf4b7-f5ae-4ec8-8072-25c9e5b9b5b3",
   "metadata": {},
   "outputs": [],
   "source": [
    "def grad_descent(f, learning_rate, initial_pt):\n",
    "    return round(x_coords[-1], 3), round(y_coords[-1], 3) #return the last x_n and y_n\n",
    "\n",
    "#define functions\n",
    "def fxn_1(x):\n",
    "    return x**2\n",
    "\n",
    "def fxn_2(x):\n",
    "    return x**4 - 2 * x**2\n",
    "\n",
    "def fxn_3(x):\n",
    "    if x>0:\n",
    "        return x**x\n",
    "    elif x==0:\n",
    "        return x\n",
    "    else:\n",
    "        return abs(x)**abs(x)\n",
    "\n",
    "def fxn_4(x):\n",
    "    return abs(x)\n",
    "\n",
    "#run gradient descent for each function\n",
    "print(grad_descent(fxn_1, 0.3, 2))\n",
    "print(grad_descent(fxn_2, 0.3, -1.4))\n",
    "print(grad_descent(fxn_3, 0.3, 1))\n",
    "print(grad_descent(fxn_4, 0.3, 2))"
   ]
  }
 ],
 "metadata": {
  "kernelspec": {
   "display_name": "Python 3 (ipykernel)",
   "language": "python",
   "name": "python3"
  },
  "language_info": {
   "codemirror_mode": {
    "name": "ipython",
    "version": 3
   },
   "file_extension": ".py",
   "mimetype": "text/x-python",
   "name": "python",
   "nbconvert_exporter": "python",
   "pygments_lexer": "ipython3",
   "version": "3.11.9"
  }
 },
 "nbformat": 4,
 "nbformat_minor": 5
}
